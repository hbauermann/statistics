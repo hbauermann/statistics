{
  "nbformat": 4,
  "nbformat_minor": 0,
  "metadata": {
    "colab": {
      "provenance": []
    },
    "kernelspec": {
      "name": "python3",
      "display_name": "Python 3"
    },
    "language_info": {
      "name": "python"
    }
  },
  "cells": [
    {
      "cell_type": "code",
      "execution_count": null,
      "metadata": {
        "id": "dRdrt00-yQyd"
      },
      "outputs": [],
      "source": [
        "import numpy as np\n",
        "import scipy.stats"
      ]
    },
    {
      "cell_type": "code",
      "source": [
        "liberdade1 = 25\n",
        "liberdade2 = 24\n",
        "alpha = .01\n",
        "\n",
        "scipy.stats.f.ppf(q=1-alpha, dfn= liberdade1, dfd=liberdade2)"
      ],
      "metadata": {
        "colab": {
          "base_uri": "https://localhost:8080/"
        },
        "id": "14wUXCn704R4",
        "outputId": "378a2315-ec6e-4153-e113-116151c36515"
      },
      "execution_count": null,
      "outputs": [
        {
          "output_type": "execute_result",
          "data": {
            "text/plain": [
              "2.642961708004215"
            ]
          },
          "metadata": {},
          "execution_count": 5
        }
      ]
    },
    {
      "cell_type": "code",
      "source": [
        "# Create data\n",
        "group1 = [0.28, 0.2, 0.26, 0.28, 0.5]\n",
        "group2 = [0.2, 0.23, 0.26, 0.21, 0.23]\n",
        "  \n",
        "# converting the list to array\n",
        "x = np.array(group1)\n",
        "y = np.array(group2)\n",
        "  \n",
        "# calculate variance of each group\n",
        "print(np.var(group1), np.var(group2))\n",
        "  \n",
        "def f_test(group1, group2):\n",
        "    f = np.var(group1, ddof=1)/np.var(group2, ddof=1)\n",
        "    nun = x.size-1\n",
        "    dun = y.size-1\n",
        "    p_value = 1-scipy.stats.f.cdf(f, nun, dun)\n",
        "    print(p_value)\n",
        "    return f, p_value\n",
        "  \n",
        "# perform F-test\n",
        "f_test(x, y)"
      ],
      "metadata": {
        "id": "EdKsm-Ve908j"
      },
      "execution_count": null,
      "outputs": []
    }
  ]
}