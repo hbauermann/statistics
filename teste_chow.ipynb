{
  "nbformat": 4,
  "nbformat_minor": 0,
  "metadata": {
    "colab": {
      "provenance": []
    },
    "kernelspec": {
      "name": "python3",
      "display_name": "Python 3"
    },
    "language_info": {
      "name": "python"
    }
  },
  "cells": [
    {
      "cell_type": "code",
      "source": [
        "!pip install chowtest\n"
      ],
      "metadata": {
        "colab": {
          "base_uri": "https://localhost:8080/"
        },
        "id": "i5VldPCAwobb",
        "outputId": "93340031-9326-484f-db42-6ae71578a7d8"
      },
      "execution_count": null,
      "outputs": [
        {
          "output_type": "stream",
          "name": "stdout",
          "text": [
            "Looking in indexes: https://pypi.org/simple, https://us-python.pkg.dev/colab-wheels/public/simple/\n",
            "Requirement already satisfied: chowtest in /usr/local/lib/python3.8/dist-packages (0.1.4)\n",
            "Requirement already satisfied: sklearn in /usr/local/lib/python3.8/dist-packages (from chowtest) (0.0)\n",
            "Requirement already satisfied: scipy in /usr/local/lib/python3.8/dist-packages (from chowtest) (1.7.3)\n",
            "Requirement already satisfied: numpy in /usr/local/lib/python3.8/dist-packages (from chowtest) (1.21.6)\n",
            "Requirement already satisfied: pandas in /usr/local/lib/python3.8/dist-packages (from chowtest) (1.3.5)\n",
            "Requirement already satisfied: pytz>=2017.3 in /usr/local/lib/python3.8/dist-packages (from pandas->chowtest) (2022.6)\n",
            "Requirement already satisfied: python-dateutil>=2.7.3 in /usr/local/lib/python3.8/dist-packages (from pandas->chowtest) (2.8.2)\n",
            "Requirement already satisfied: six>=1.5 in /usr/local/lib/python3.8/dist-packages (from python-dateutil>=2.7.3->pandas->chowtest) (1.15.0)\n",
            "Requirement already satisfied: scikit-learn in /usr/local/lib/python3.8/dist-packages (from sklearn->chowtest) (1.0.2)\n",
            "Requirement already satisfied: threadpoolctl>=2.0.0 in /usr/local/lib/python3.8/dist-packages (from scikit-learn->sklearn->chowtest) (3.1.0)\n",
            "Requirement already satisfied: joblib>=0.11 in /usr/local/lib/python3.8/dist-packages (from scikit-learn->sklearn->chowtest) (1.2.0)\n"
          ]
        }
      ]
    },
    {
      "cell_type": "code",
      "execution_count": null,
      "metadata": {
        "id": "AODg6Jx0vere"
      },
      "outputs": [],
      "source": [
        "import pandas as pd\n",
        "from chow_test import chow_test"
      ]
    },
    {
      "cell_type": "code",
      "source": [
        "df_dados = pd.read_excel('dados_pest.xlsx', sheet_name='Planilha2')\n",
        "df_dados.head()"
      ],
      "metadata": {
        "colab": {
          "base_uri": "https://localhost:8080/",
          "height": 268
        },
        "id": "csLJJcmSvmKr",
        "outputId": "69caf410-764b-4498-80a7-4544030c918c"
      },
      "execution_count": null,
      "outputs": [
        {
          "output_type": "execute_result",
          "data": {
            "text/plain": [
              "   Unnamed: 0  Pesticides (total)  Insecticides  Herbicides  \\\n",
              "0        1990            49695.00      18388.00    22903.00   \n",
              "1        1991            58349.44      19556.78    27928.33   \n",
              "2        1992            67003.89      20725.56    32953.67   \n",
              "3        1993            75658.33      21894.33    37979.00   \n",
              "4        1994            84312.78      23063.11    43004.33   \n",
              "\n",
              "   Fungicides and Bactericides  Fungicides – Seed treatments  \\\n",
              "0                      8404.00                             0   \n",
              "1                      9711.11                             0   \n",
              "2                     11018.22                             0   \n",
              "3                     12325.33                             0   \n",
              "4                     13632.44                             0   \n",
              "\n",
              "   Insecticides – Seed Treatments  Unnamed: 7     VALOR  Unnamed: 9  \\\n",
              "0                               0         NaN   99390.00          *   \n",
              "1                               0         NaN  115545.66          *   \n",
              "2                               0         NaN  131701.34        NaN   \n",
              "3                               0         NaN  147856.99        NaN   \n",
              "4                               0         NaN  164012.66        NaN   \n",
              "\n",
              "   Unnamed: 10  Unnamed: 11  \n",
              "0            0          0.0  \n",
              "1            1          1.0  \n",
              "2            2          NaN  \n",
              "3            3          NaN  \n",
              "4            4          NaN  "
            ],
            "text/html": [
              "\n",
              "  <div id=\"df-c14fbf0d-fed3-4ac2-93d8-24da97977b35\">\n",
              "    <div class=\"colab-df-container\">\n",
              "      <div>\n",
              "<style scoped>\n",
              "    .dataframe tbody tr th:only-of-type {\n",
              "        vertical-align: middle;\n",
              "    }\n",
              "\n",
              "    .dataframe tbody tr th {\n",
              "        vertical-align: top;\n",
              "    }\n",
              "\n",
              "    .dataframe thead th {\n",
              "        text-align: right;\n",
              "    }\n",
              "</style>\n",
              "<table border=\"1\" class=\"dataframe\">\n",
              "  <thead>\n",
              "    <tr style=\"text-align: right;\">\n",
              "      <th></th>\n",
              "      <th>Unnamed: 0</th>\n",
              "      <th>Pesticides (total)</th>\n",
              "      <th>Insecticides</th>\n",
              "      <th>Herbicides</th>\n",
              "      <th>Fungicides and Bactericides</th>\n",
              "      <th>Fungicides – Seed treatments</th>\n",
              "      <th>Insecticides – Seed Treatments</th>\n",
              "      <th>Unnamed: 7</th>\n",
              "      <th>VALOR</th>\n",
              "      <th>Unnamed: 9</th>\n",
              "      <th>Unnamed: 10</th>\n",
              "      <th>Unnamed: 11</th>\n",
              "    </tr>\n",
              "  </thead>\n",
              "  <tbody>\n",
              "    <tr>\n",
              "      <th>0</th>\n",
              "      <td>1990</td>\n",
              "      <td>49695.00</td>\n",
              "      <td>18388.00</td>\n",
              "      <td>22903.00</td>\n",
              "      <td>8404.00</td>\n",
              "      <td>0</td>\n",
              "      <td>0</td>\n",
              "      <td>NaN</td>\n",
              "      <td>99390.00</td>\n",
              "      <td>*</td>\n",
              "      <td>0</td>\n",
              "      <td>0.0</td>\n",
              "    </tr>\n",
              "    <tr>\n",
              "      <th>1</th>\n",
              "      <td>1991</td>\n",
              "      <td>58349.44</td>\n",
              "      <td>19556.78</td>\n",
              "      <td>27928.33</td>\n",
              "      <td>9711.11</td>\n",
              "      <td>0</td>\n",
              "      <td>0</td>\n",
              "      <td>NaN</td>\n",
              "      <td>115545.66</td>\n",
              "      <td>*</td>\n",
              "      <td>1</td>\n",
              "      <td>1.0</td>\n",
              "    </tr>\n",
              "    <tr>\n",
              "      <th>2</th>\n",
              "      <td>1992</td>\n",
              "      <td>67003.89</td>\n",
              "      <td>20725.56</td>\n",
              "      <td>32953.67</td>\n",
              "      <td>11018.22</td>\n",
              "      <td>0</td>\n",
              "      <td>0</td>\n",
              "      <td>NaN</td>\n",
              "      <td>131701.34</td>\n",
              "      <td>NaN</td>\n",
              "      <td>2</td>\n",
              "      <td>NaN</td>\n",
              "    </tr>\n",
              "    <tr>\n",
              "      <th>3</th>\n",
              "      <td>1993</td>\n",
              "      <td>75658.33</td>\n",
              "      <td>21894.33</td>\n",
              "      <td>37979.00</td>\n",
              "      <td>12325.33</td>\n",
              "      <td>0</td>\n",
              "      <td>0</td>\n",
              "      <td>NaN</td>\n",
              "      <td>147856.99</td>\n",
              "      <td>NaN</td>\n",
              "      <td>3</td>\n",
              "      <td>NaN</td>\n",
              "    </tr>\n",
              "    <tr>\n",
              "      <th>4</th>\n",
              "      <td>1994</td>\n",
              "      <td>84312.78</td>\n",
              "      <td>23063.11</td>\n",
              "      <td>43004.33</td>\n",
              "      <td>13632.44</td>\n",
              "      <td>0</td>\n",
              "      <td>0</td>\n",
              "      <td>NaN</td>\n",
              "      <td>164012.66</td>\n",
              "      <td>NaN</td>\n",
              "      <td>4</td>\n",
              "      <td>NaN</td>\n",
              "    </tr>\n",
              "  </tbody>\n",
              "</table>\n",
              "</div>\n",
              "      <button class=\"colab-df-convert\" onclick=\"convertToInteractive('df-c14fbf0d-fed3-4ac2-93d8-24da97977b35')\"\n",
              "              title=\"Convert this dataframe to an interactive table.\"\n",
              "              style=\"display:none;\">\n",
              "        \n",
              "  <svg xmlns=\"http://www.w3.org/2000/svg\" height=\"24px\"viewBox=\"0 0 24 24\"\n",
              "       width=\"24px\">\n",
              "    <path d=\"M0 0h24v24H0V0z\" fill=\"none\"/>\n",
              "    <path d=\"M18.56 5.44l.94 2.06.94-2.06 2.06-.94-2.06-.94-.94-2.06-.94 2.06-2.06.94zm-11 1L8.5 8.5l.94-2.06 2.06-.94-2.06-.94L8.5 2.5l-.94 2.06-2.06.94zm10 10l.94 2.06.94-2.06 2.06-.94-2.06-.94-.94-2.06-.94 2.06-2.06.94z\"/><path d=\"M17.41 7.96l-1.37-1.37c-.4-.4-.92-.59-1.43-.59-.52 0-1.04.2-1.43.59L10.3 9.45l-7.72 7.72c-.78.78-.78 2.05 0 2.83L4 21.41c.39.39.9.59 1.41.59.51 0 1.02-.2 1.41-.59l7.78-7.78 2.81-2.81c.8-.78.8-2.07 0-2.86zM5.41 20L4 18.59l7.72-7.72 1.47 1.35L5.41 20z\"/>\n",
              "  </svg>\n",
              "      </button>\n",
              "      \n",
              "  <style>\n",
              "    .colab-df-container {\n",
              "      display:flex;\n",
              "      flex-wrap:wrap;\n",
              "      gap: 12px;\n",
              "    }\n",
              "\n",
              "    .colab-df-convert {\n",
              "      background-color: #E8F0FE;\n",
              "      border: none;\n",
              "      border-radius: 50%;\n",
              "      cursor: pointer;\n",
              "      display: none;\n",
              "      fill: #1967D2;\n",
              "      height: 32px;\n",
              "      padding: 0 0 0 0;\n",
              "      width: 32px;\n",
              "    }\n",
              "\n",
              "    .colab-df-convert:hover {\n",
              "      background-color: #E2EBFA;\n",
              "      box-shadow: 0px 1px 2px rgba(60, 64, 67, 0.3), 0px 1px 3px 1px rgba(60, 64, 67, 0.15);\n",
              "      fill: #174EA6;\n",
              "    }\n",
              "\n",
              "    [theme=dark] .colab-df-convert {\n",
              "      background-color: #3B4455;\n",
              "      fill: #D2E3FC;\n",
              "    }\n",
              "\n",
              "    [theme=dark] .colab-df-convert:hover {\n",
              "      background-color: #434B5C;\n",
              "      box-shadow: 0px 1px 3px 1px rgba(0, 0, 0, 0.15);\n",
              "      filter: drop-shadow(0px 1px 2px rgba(0, 0, 0, 0.3));\n",
              "      fill: #FFFFFF;\n",
              "    }\n",
              "  </style>\n",
              "\n",
              "      <script>\n",
              "        const buttonEl =\n",
              "          document.querySelector('#df-c14fbf0d-fed3-4ac2-93d8-24da97977b35 button.colab-df-convert');\n",
              "        buttonEl.style.display =\n",
              "          google.colab.kernel.accessAllowed ? 'block' : 'none';\n",
              "\n",
              "        async function convertToInteractive(key) {\n",
              "          const element = document.querySelector('#df-c14fbf0d-fed3-4ac2-93d8-24da97977b35');\n",
              "          const dataTable =\n",
              "            await google.colab.kernel.invokeFunction('convertToInteractive',\n",
              "                                                     [key], {});\n",
              "          if (!dataTable) return;\n",
              "\n",
              "          const docLinkHtml = 'Like what you see? Visit the ' +\n",
              "            '<a target=\"_blank\" href=https://colab.research.google.com/notebooks/data_table.ipynb>data table notebook</a>'\n",
              "            + ' to learn more about interactive tables.';\n",
              "          element.innerHTML = '';\n",
              "          dataTable['output_type'] = 'display_data';\n",
              "          await google.colab.output.renderOutput(dataTable, element);\n",
              "          const docLink = document.createElement('div');\n",
              "          docLink.innerHTML = docLinkHtml;\n",
              "          element.appendChild(docLink);\n",
              "        }\n",
              "      </script>\n",
              "    </div>\n",
              "  </div>\n",
              "  "
            ]
          },
          "metadata": {},
          "execution_count": 18
        }
      ]
    },
    {
      "cell_type": "code",
      "source": [
        "def exec_chow_test(x, y, first, last, significance):\n",
        "  return chow_test(X_series=x, y_series=y, last_index=last, first_index=first, significance= significance)"
      ],
      "metadata": {
        "id": "L8uLWB8okBb_"
      },
      "execution_count": null,
      "outputs": []
    },
    {
      "cell_type": "code",
      "source": [
        "exec_chow_test(df_dados['Unnamed: 0'], df_dados['VALOR '], 0, 1, 0.05)"
      ],
      "metadata": {
        "colab": {
          "base_uri": "https://localhost:8080/"
        },
        "id": "Z4Z6b2nJm6NU",
        "outputId": "5a4e104d-cc65-445e-a117-e27f106d5cee"
      },
      "execution_count": null,
      "outputs": [
        {
          "output_type": "stream",
          "name": "stdout",
          "text": [
            "Fail to reject the null hypothesis of equality of regression coefficients in the two periods.\n",
            "Chow Statistic: 0.0, P_value: 1.0\n"
          ]
        },
        {
          "output_type": "execute_result",
          "data": {
            "text/plain": [
              "(0.0, 1.0)"
            ]
          },
          "metadata": {},
          "execution_count": 27
        }
      ]
    },
    {
      "cell_type": "code",
      "source": [
        "exec_chow_test(df_dados['Unnamed: 0'], df_dados['VALOR '], 11, 12, 0.05)"
      ],
      "metadata": {
        "colab": {
          "base_uri": "https://localhost:8080/"
        },
        "id": "CQ6LOEpgGRdK",
        "outputId": "b4d8d5e9-d318-4c6c-9bc4-d94a94ed4683"
      },
      "execution_count": null,
      "outputs": [
        {
          "output_type": "stream",
          "name": "stdout",
          "text": [
            "Fail to reject the null hypothesis of equality of regression coefficients in the two periods.\n",
            "Chow Statistic: 2.0637399944849477, P_value: 0.145860995815143\n"
          ]
        },
        {
          "output_type": "execute_result",
          "data": {
            "text/plain": [
              "(2.0637399944849477, 0.145860995815143)"
            ]
          },
          "metadata": {},
          "execution_count": 29
        }
      ]
    },
    {
      "cell_type": "code",
      "source": [
        "exec_chow_test(df_dados['Unnamed: 0'], df_dados['VALOR '], 12, 13, 0.05)"
      ],
      "metadata": {
        "colab": {
          "base_uri": "https://localhost:8080/"
        },
        "id": "Sl3eG7yQGVb2",
        "outputId": "17322b48-593b-40ca-b423-e69ecab6d9a7"
      },
      "execution_count": null,
      "outputs": [
        {
          "output_type": "stream",
          "name": "stdout",
          "text": [
            "Fail to reject the null hypothesis of equality of regression coefficients in the two periods.\n",
            "Chow Statistic: 3.176795648760651, P_value: 0.057095570232744586\n"
          ]
        },
        {
          "output_type": "execute_result",
          "data": {
            "text/plain": [
              "(3.176795648760651, 0.057095570232744586)"
            ]
          },
          "metadata": {},
          "execution_count": 30
        }
      ]
    },
    {
      "cell_type": "code",
      "source": [
        "exec_chow_test(df_dados['Unnamed: 0'], df_dados['VALOR '], 13, 14, 0.05)"
      ],
      "metadata": {
        "colab": {
          "base_uri": "https://localhost:8080/"
        },
        "id": "DWaWWq_qnkQT",
        "outputId": "37df8f96-d2f3-4699-f156-1f2ba5398b64"
      },
      "execution_count": null,
      "outputs": [
        {
          "output_type": "stream",
          "name": "stdout",
          "text": [
            "Reject the null hypothesis of equality of regression coefficients in the two periods.\n",
            "Chow Statistic: 8.425659233581852, P_value: 0.0013657129865827233\n"
          ]
        },
        {
          "output_type": "execute_result",
          "data": {
            "text/plain": [
              "(8.425659233581852, 0.0013657129865827233)"
            ]
          },
          "metadata": {},
          "execution_count": 28
        }
      ]
    },
    {
      "cell_type": "code",
      "source": [
        "exec_chow_test(df_dados['Unnamed: 0'], df_dados['VALOR '], 16, 17, 0.05)"
      ],
      "metadata": {
        "colab": {
          "base_uri": "https://localhost:8080/"
        },
        "id": "FvSEp2EonktR",
        "outputId": "0b221e82-d0f1-4e9e-a27a-572a14cd2040"
      },
      "execution_count": null,
      "outputs": [
        {
          "output_type": "stream",
          "name": "stdout",
          "text": [
            "Reject the null hypothesis of equality of regression coefficients in the two periods.\n",
            "Chow Statistic: 20.473704547112636, P_value: 3.3186475092428225e-06\n"
          ]
        },
        {
          "output_type": "execute_result",
          "data": {
            "text/plain": [
              "(20.473704547112636, 3.3186475092428225e-06)"
            ]
          },
          "metadata": {},
          "execution_count": 19
        }
      ]
    },
    {
      "cell_type": "code",
      "source": [
        "exec_chow_test(df_dados['Unnamed: 0'], df_dados['VALOR '], 22, 23, 0.05)"
      ],
      "metadata": {
        "colab": {
          "base_uri": "https://localhost:8080/"
        },
        "id": "Pz-3TvL_nlL1",
        "outputId": "fbd3a6fb-7616-4d34-a8fb-82d077d98642"
      },
      "execution_count": null,
      "outputs": [
        {
          "output_type": "stream",
          "name": "stdout",
          "text": [
            "Reject the null hypothesis of equality of regression coefficients in the two periods.\n",
            "Chow Statistic: 7.167550227500085, P_value: 0.0030648139378838257\n"
          ]
        },
        {
          "output_type": "execute_result",
          "data": {
            "text/plain": [
              "(7.167550227500085, 0.0030648139378838257)"
            ]
          },
          "metadata": {},
          "execution_count": 20
        }
      ]
    },
    {
      "cell_type": "code",
      "source": [
        "exec_chow_test(df_dados['Unnamed: 0'], df_dados['VALOR '], 23, 24, 0.05)"
      ],
      "metadata": {
        "colab": {
          "base_uri": "https://localhost:8080/"
        },
        "id": "b8Hhtw92GiPP",
        "outputId": "4c76afef-9e6f-471a-e67e-bcab1e87bd59"
      },
      "execution_count": null,
      "outputs": [
        {
          "output_type": "stream",
          "name": "stdout",
          "text": [
            "Reject the null hypothesis of equality of regression coefficients in the two periods.\n",
            "Chow Statistic: 7.562749774322245, P_value: 0.00236556287357903\n"
          ]
        },
        {
          "output_type": "execute_result",
          "data": {
            "text/plain": [
              "(7.562749774322245, 0.00236556287357903)"
            ]
          },
          "metadata": {},
          "execution_count": 31
        }
      ]
    },
    {
      "cell_type": "code",
      "source": [
        "exec_chow_test(df_dados['Unnamed: 0'], df_dados['VALOR '], 24, 25, 0.05)"
      ],
      "metadata": {
        "colab": {
          "base_uri": "https://localhost:8080/"
        },
        "id": "sIrd5OQbnlem",
        "outputId": "fb2a72f9-0225-41cf-8a71-a63f92e062b1"
      },
      "execution_count": null,
      "outputs": [
        {
          "output_type": "stream",
          "name": "stdout",
          "text": [
            "Reject the null hypothesis of equality of regression coefficients in the two periods.\n",
            "Chow Statistic: 7.148411900768327, P_value: 0.003103872359716986\n"
          ]
        },
        {
          "output_type": "execute_result",
          "data": {
            "text/plain": [
              "(7.148411900768327, 0.003103872359716986)"
            ]
          },
          "metadata": {},
          "execution_count": 21
        }
      ]
    },
    {
      "cell_type": "code",
      "source": [
        "exec_chow_test(df_dados['Unnamed: 0'], df_dados['VALOR '], 25, 26, 0.05)"
      ],
      "metadata": {
        "colab": {
          "base_uri": "https://localhost:8080/"
        },
        "id": "IzfvGhI3GtSF",
        "outputId": "79b00ad4-3467-4093-9603-e71d92390870"
      },
      "execution_count": null,
      "outputs": [
        {
          "output_type": "stream",
          "name": "stdout",
          "text": [
            "Reject the null hypothesis of equality of regression coefficients in the two periods.\n",
            "Chow Statistic: 8.026579021001067, P_value: 0.0017560374696817815\n"
          ]
        },
        {
          "output_type": "execute_result",
          "data": {
            "text/plain": [
              "(8.026579021001067, 0.0017560374696817815)"
            ]
          },
          "metadata": {},
          "execution_count": 32
        }
      ]
    },
    {
      "cell_type": "code",
      "source": [
        "df_area_plantada = pd.read_excel('dados_area.xlsx')\n",
        "df_area_plantada.head()"
      ],
      "metadata": {
        "colab": {
          "base_uri": "https://localhost:8080/",
          "height": 206
        },
        "id": "p041uGCizx_G",
        "outputId": "5654a6f5-7991-419f-cadb-fbe54fa33fb4"
      },
      "execution_count": null,
      "outputs": [
        {
          "output_type": "execute_result",
          "data": {
            "text/plain": [
              "  Ano Agricola   Ano  Area Plantada (mil ha)  Producao (mil t)  Produtividade\n",
              "0      1976/77  1976                    6949           12145.0       1.747733\n",
              "1     1977/78   1977                    7780            9726.0       1.250129\n",
              "2      1978/79  1978                    8151           10200.0       1.251380\n",
              "3      1979/80  1979                    8756           14888.0       1.700320\n",
              "4      1980/81  1980                    8693           15485.0       1.781318"
            ],
            "text/html": [
              "\n",
              "  <div id=\"df-ea2203c3-12bb-475d-a8f3-7d280044d9b5\">\n",
              "    <div class=\"colab-df-container\">\n",
              "      <div>\n",
              "<style scoped>\n",
              "    .dataframe tbody tr th:only-of-type {\n",
              "        vertical-align: middle;\n",
              "    }\n",
              "\n",
              "    .dataframe tbody tr th {\n",
              "        vertical-align: top;\n",
              "    }\n",
              "\n",
              "    .dataframe thead th {\n",
              "        text-align: right;\n",
              "    }\n",
              "</style>\n",
              "<table border=\"1\" class=\"dataframe\">\n",
              "  <thead>\n",
              "    <tr style=\"text-align: right;\">\n",
              "      <th></th>\n",
              "      <th>Ano Agricola</th>\n",
              "      <th>Ano</th>\n",
              "      <th>Area Plantada (mil ha)</th>\n",
              "      <th>Producao (mil t)</th>\n",
              "      <th>Produtividade</th>\n",
              "    </tr>\n",
              "  </thead>\n",
              "  <tbody>\n",
              "    <tr>\n",
              "      <th>0</th>\n",
              "      <td>1976/77</td>\n",
              "      <td>1976</td>\n",
              "      <td>6949</td>\n",
              "      <td>12145.0</td>\n",
              "      <td>1.747733</td>\n",
              "    </tr>\n",
              "    <tr>\n",
              "      <th>1</th>\n",
              "      <td>1977/78</td>\n",
              "      <td>1977</td>\n",
              "      <td>7780</td>\n",
              "      <td>9726.0</td>\n",
              "      <td>1.250129</td>\n",
              "    </tr>\n",
              "    <tr>\n",
              "      <th>2</th>\n",
              "      <td>1978/79</td>\n",
              "      <td>1978</td>\n",
              "      <td>8151</td>\n",
              "      <td>10200.0</td>\n",
              "      <td>1.251380</td>\n",
              "    </tr>\n",
              "    <tr>\n",
              "      <th>3</th>\n",
              "      <td>1979/80</td>\n",
              "      <td>1979</td>\n",
              "      <td>8756</td>\n",
              "      <td>14888.0</td>\n",
              "      <td>1.700320</td>\n",
              "    </tr>\n",
              "    <tr>\n",
              "      <th>4</th>\n",
              "      <td>1980/81</td>\n",
              "      <td>1980</td>\n",
              "      <td>8693</td>\n",
              "      <td>15485.0</td>\n",
              "      <td>1.781318</td>\n",
              "    </tr>\n",
              "  </tbody>\n",
              "</table>\n",
              "</div>\n",
              "      <button class=\"colab-df-convert\" onclick=\"convertToInteractive('df-ea2203c3-12bb-475d-a8f3-7d280044d9b5')\"\n",
              "              title=\"Convert this dataframe to an interactive table.\"\n",
              "              style=\"display:none;\">\n",
              "        \n",
              "  <svg xmlns=\"http://www.w3.org/2000/svg\" height=\"24px\"viewBox=\"0 0 24 24\"\n",
              "       width=\"24px\">\n",
              "    <path d=\"M0 0h24v24H0V0z\" fill=\"none\"/>\n",
              "    <path d=\"M18.56 5.44l.94 2.06.94-2.06 2.06-.94-2.06-.94-.94-2.06-.94 2.06-2.06.94zm-11 1L8.5 8.5l.94-2.06 2.06-.94-2.06-.94L8.5 2.5l-.94 2.06-2.06.94zm10 10l.94 2.06.94-2.06 2.06-.94-2.06-.94-.94-2.06-.94 2.06-2.06.94z\"/><path d=\"M17.41 7.96l-1.37-1.37c-.4-.4-.92-.59-1.43-.59-.52 0-1.04.2-1.43.59L10.3 9.45l-7.72 7.72c-.78.78-.78 2.05 0 2.83L4 21.41c.39.39.9.59 1.41.59.51 0 1.02-.2 1.41-.59l7.78-7.78 2.81-2.81c.8-.78.8-2.07 0-2.86zM5.41 20L4 18.59l7.72-7.72 1.47 1.35L5.41 20z\"/>\n",
              "  </svg>\n",
              "      </button>\n",
              "      \n",
              "  <style>\n",
              "    .colab-df-container {\n",
              "      display:flex;\n",
              "      flex-wrap:wrap;\n",
              "      gap: 12px;\n",
              "    }\n",
              "\n",
              "    .colab-df-convert {\n",
              "      background-color: #E8F0FE;\n",
              "      border: none;\n",
              "      border-radius: 50%;\n",
              "      cursor: pointer;\n",
              "      display: none;\n",
              "      fill: #1967D2;\n",
              "      height: 32px;\n",
              "      padding: 0 0 0 0;\n",
              "      width: 32px;\n",
              "    }\n",
              "\n",
              "    .colab-df-convert:hover {\n",
              "      background-color: #E2EBFA;\n",
              "      box-shadow: 0px 1px 2px rgba(60, 64, 67, 0.3), 0px 1px 3px 1px rgba(60, 64, 67, 0.15);\n",
              "      fill: #174EA6;\n",
              "    }\n",
              "\n",
              "    [theme=dark] .colab-df-convert {\n",
              "      background-color: #3B4455;\n",
              "      fill: #D2E3FC;\n",
              "    }\n",
              "\n",
              "    [theme=dark] .colab-df-convert:hover {\n",
              "      background-color: #434B5C;\n",
              "      box-shadow: 0px 1px 3px 1px rgba(0, 0, 0, 0.15);\n",
              "      filter: drop-shadow(0px 1px 2px rgba(0, 0, 0, 0.3));\n",
              "      fill: #FFFFFF;\n",
              "    }\n",
              "  </style>\n",
              "\n",
              "      <script>\n",
              "        const buttonEl =\n",
              "          document.querySelector('#df-ea2203c3-12bb-475d-a8f3-7d280044d9b5 button.colab-df-convert');\n",
              "        buttonEl.style.display =\n",
              "          google.colab.kernel.accessAllowed ? 'block' : 'none';\n",
              "\n",
              "        async function convertToInteractive(key) {\n",
              "          const element = document.querySelector('#df-ea2203c3-12bb-475d-a8f3-7d280044d9b5');\n",
              "          const dataTable =\n",
              "            await google.colab.kernel.invokeFunction('convertToInteractive',\n",
              "                                                     [key], {});\n",
              "          if (!dataTable) return;\n",
              "\n",
              "          const docLinkHtml = 'Like what you see? Visit the ' +\n",
              "            '<a target=\"_blank\" href=https://colab.research.google.com/notebooks/data_table.ipynb>data table notebook</a>'\n",
              "            + ' to learn more about interactive tables.';\n",
              "          element.innerHTML = '';\n",
              "          dataTable['output_type'] = 'display_data';\n",
              "          await google.colab.output.renderOutput(dataTable, element);\n",
              "          const docLink = document.createElement('div');\n",
              "          docLink.innerHTML = docLinkHtml;\n",
              "          element.appendChild(docLink);\n",
              "        }\n",
              "      </script>\n",
              "    </div>\n",
              "  </div>\n",
              "  "
            ]
          },
          "metadata": {},
          "execution_count": 26
        }
      ]
    },
    {
      "cell_type": "code",
      "source": [
        "exec_chow_test(df_area_plantada['Ano'], df_area_plantada['Produtividade'], 0, 1, 0.05)"
      ],
      "metadata": {
        "colab": {
          "base_uri": "https://localhost:8080/"
        },
        "id": "kwvFobuL0MTB",
        "outputId": "1f3b8b13-e752-4acf-dc1c-32860c475ed8"
      },
      "execution_count": null,
      "outputs": [
        {
          "output_type": "stream",
          "name": "stdout",
          "text": [
            "Fail to reject the null hypothesis of equality of regression coefficients in the two periods.\n",
            "Chow Statistic: 0.0, P_value: 1.0\n"
          ]
        },
        {
          "output_type": "execute_result",
          "data": {
            "text/plain": [
              "(0.0, 1.0)"
            ]
          },
          "metadata": {},
          "execution_count": 32
        }
      ]
    },
    {
      "cell_type": "code",
      "source": [
        "exec_chow_test(df_area_plantada['Ano'], df_area_plantada['Produtividade'], 2, 3, 0.05)"
      ],
      "metadata": {
        "colab": {
          "base_uri": "https://localhost:8080/"
        },
        "id": "KYR9BgOn07yZ",
        "outputId": "ea55321c-9389-4d5b-9836-35bfc3327981"
      },
      "execution_count": null,
      "outputs": [
        {
          "output_type": "stream",
          "name": "stdout",
          "text": [
            "Fail to reject the null hypothesis of equality of regression coefficients in the two periods.\n",
            "Chow Statistic: 1.8028934777720687, P_value: 0.17705782082074517\n"
          ]
        },
        {
          "output_type": "execute_result",
          "data": {
            "text/plain": [
              "(1.8028934777720687, 0.17705782082074517)"
            ]
          },
          "metadata": {},
          "execution_count": 33
        }
      ]
    },
    {
      "cell_type": "code",
      "source": [
        "exec_chow_test(df_area_plantada['Ano'], df_area_plantada['Produtividade'], 4, 5, 0.05)"
      ],
      "metadata": {
        "colab": {
          "base_uri": "https://localhost:8080/"
        },
        "id": "6IF7Jbs51Dlp",
        "outputId": "636712d1-49f7-4194-9621-c748fd42fdb9"
      },
      "execution_count": null,
      "outputs": [
        {
          "output_type": "stream",
          "name": "stdout",
          "text": [
            "Fail to reject the null hypothesis of equality of regression coefficients in the two periods.\n",
            "Chow Statistic: -0.14625443747466396, P_value: 1.0\n"
          ]
        },
        {
          "output_type": "execute_result",
          "data": {
            "text/plain": [
              "(-0.14625443747466396, 1.0)"
            ]
          },
          "metadata": {},
          "execution_count": 34
        }
      ]
    },
    {
      "cell_type": "code",
      "source": [
        "exec_chow_test(df_area_plantada['Ano'], df_area_plantada['Produtividade'], 5, 6, 0.05)"
      ],
      "metadata": {
        "colab": {
          "base_uri": "https://localhost:8080/"
        },
        "id": "OZfkspYp1GVU",
        "outputId": "aa5804f2-0fbe-49bb-874f-f1cd82989486"
      },
      "execution_count": null,
      "outputs": [
        {
          "output_type": "stream",
          "name": "stdout",
          "text": [
            "Fail to reject the null hypothesis of equality of regression coefficients in the two periods.\n",
            "Chow Statistic: 0.6079955932518433, P_value: 0.5490544898699876\n"
          ]
        },
        {
          "output_type": "execute_result",
          "data": {
            "text/plain": [
              "(0.6079955932518433, 0.5490544898699876)"
            ]
          },
          "metadata": {},
          "execution_count": 35
        }
      ]
    },
    {
      "cell_type": "code",
      "source": [
        "exec_chow_test(df_area_plantada['Ano'], df_area_plantada['Produtividade'], 7, 8, 0.05)"
      ],
      "metadata": {
        "colab": {
          "base_uri": "https://localhost:8080/"
        },
        "id": "eWvc2J7l1IZ_",
        "outputId": "a6b80296-8cec-4c86-d7c0-06b13669fe3b"
      },
      "execution_count": null,
      "outputs": [
        {
          "output_type": "stream",
          "name": "stdout",
          "text": [
            "Fail to reject the null hypothesis of equality of regression coefficients in the two periods.\n",
            "Chow Statistic: 0.8123870126745578, P_value: 0.45049207145729975\n"
          ]
        },
        {
          "output_type": "execute_result",
          "data": {
            "text/plain": [
              "(0.8123870126745578, 0.45049207145729975)"
            ]
          },
          "metadata": {},
          "execution_count": 36
        }
      ]
    },
    {
      "cell_type": "code",
      "source": [
        "exec_chow_test(df_area_plantada['Ano'], df_area_plantada['Produtividade'], 8, 9, 0.05)"
      ],
      "metadata": {
        "colab": {
          "base_uri": "https://localhost:8080/"
        },
        "id": "Idd-KHEF1Mjw",
        "outputId": "4cbdbf4e-5d8c-4dca-85dc-e01dbcd48a93"
      },
      "execution_count": null,
      "outputs": [
        {
          "output_type": "stream",
          "name": "stdout",
          "text": [
            "Fail to reject the null hypothesis of equality of regression coefficients in the two periods.\n",
            "Chow Statistic: 0.8035865270903428, P_value: 0.45432927610941687\n"
          ]
        },
        {
          "output_type": "execute_result",
          "data": {
            "text/plain": [
              "(0.8035865270903428, 0.45432927610941687)"
            ]
          },
          "metadata": {},
          "execution_count": 37
        }
      ]
    },
    {
      "cell_type": "code",
      "source": [
        "exec_chow_test(df_area_plantada['Ano'], df_area_plantada['Produtividade'], 9, 10, 0.05)"
      ],
      "metadata": {
        "colab": {
          "base_uri": "https://localhost:8080/"
        },
        "id": "CuPs6FgE1PgK",
        "outputId": "e7a78caa-9571-45a0-e3ff-e36c311c9f82"
      },
      "execution_count": null,
      "outputs": [
        {
          "output_type": "stream",
          "name": "stdout",
          "text": [
            "Fail to reject the null hypothesis of equality of regression coefficients in the two periods.\n",
            "Chow Statistic: -0.4609826114868151, P_value: 1.0\n"
          ]
        },
        {
          "output_type": "execute_result",
          "data": {
            "text/plain": [
              "(-0.4609826114868151, 1.0)"
            ]
          },
          "metadata": {},
          "execution_count": 38
        }
      ]
    },
    {
      "cell_type": "code",
      "source": [
        "exec_chow_test(df_area_plantada['Ano'], df_area_plantada['Produtividade'], 10, 11, 0.05)"
      ],
      "metadata": {
        "colab": {
          "base_uri": "https://localhost:8080/"
        },
        "id": "4B5Dgua11Rpw",
        "outputId": "6aa2c244-c1c8-47ef-fd5d-c986cf08a36b"
      },
      "execution_count": null,
      "outputs": [
        {
          "output_type": "stream",
          "name": "stdout",
          "text": [
            "Fail to reject the null hypothesis of equality of regression coefficients in the two periods.\n",
            "Chow Statistic: 0.763706543419958, P_value: 0.4721514259805697\n"
          ]
        },
        {
          "output_type": "execute_result",
          "data": {
            "text/plain": [
              "(0.763706543419958, 0.4721514259805697)"
            ]
          },
          "metadata": {},
          "execution_count": 39
        }
      ]
    },
    {
      "cell_type": "code",
      "source": [
        "exec_chow_test(df_area_plantada['Ano'], df_area_plantada['Produtividade'], 11, 12, 0.05)"
      ],
      "metadata": {
        "colab": {
          "base_uri": "https://localhost:8080/"
        },
        "id": "DN0aeDm21Xfa",
        "outputId": "0cfbbf6f-1d94-44ad-be9f-48fb47e4d11c"
      },
      "execution_count": null,
      "outputs": [
        {
          "output_type": "stream",
          "name": "stdout",
          "text": [
            "Fail to reject the null hypothesis of equality of regression coefficients in the two periods.\n",
            "Chow Statistic: 0.8123620829297561, P_value: 0.450502893341173\n"
          ]
        },
        {
          "output_type": "execute_result",
          "data": {
            "text/plain": [
              "(0.8123620829297561, 0.450502893341173)"
            ]
          },
          "metadata": {},
          "execution_count": 40
        }
      ]
    },
    {
      "cell_type": "code",
      "source": [
        "exec_chow_test(df_area_plantada['Ano'], df_area_plantada['Produtividade'], 12, 13, 0.05)"
      ],
      "metadata": {
        "colab": {
          "base_uri": "https://localhost:8080/"
        },
        "id": "5p8U3jh81TzN",
        "outputId": "428deba9-1f18-4493-bb3b-a9cf3992aec5"
      },
      "execution_count": null,
      "outputs": [
        {
          "output_type": "stream",
          "name": "stdout",
          "text": [
            "Fail to reject the null hypothesis of equality of regression coefficients in the two periods.\n",
            "Chow Statistic: 0.6539514329358864, P_value: 0.5250807578318626\n"
          ]
        },
        {
          "output_type": "execute_result",
          "data": {
            "text/plain": [
              "(0.6539514329358864, 0.5250807578318626)"
            ]
          },
          "metadata": {},
          "execution_count": 41
        }
      ]
    },
    {
      "cell_type": "code",
      "source": [
        "exec_chow_test(df_area_plantada['Ano'], df_area_plantada['Produtividade'], 13, 14, 0.05)"
      ],
      "metadata": {
        "colab": {
          "base_uri": "https://localhost:8080/"
        },
        "id": "zp-bZRda1bvJ",
        "outputId": "61a7fc11-497a-4136-e4c1-85c4c19bc3c7"
      },
      "execution_count": null,
      "outputs": [
        {
          "output_type": "stream",
          "name": "stdout",
          "text": [
            "Fail to reject the null hypothesis of equality of regression coefficients in the two periods.\n",
            "Chow Statistic: 0.6495521928140643, P_value: 0.5273275435862848\n"
          ]
        },
        {
          "output_type": "execute_result",
          "data": {
            "text/plain": [
              "(0.6495521928140643, 0.5273275435862848)"
            ]
          },
          "metadata": {},
          "execution_count": 42
        }
      ]
    },
    {
      "cell_type": "code",
      "source": [
        "exec_chow_test(df_area_plantada['Ano'], df_area_plantada['Produtividade'], 14, 15, 0.05)"
      ],
      "metadata": {
        "colab": {
          "base_uri": "https://localhost:8080/"
        },
        "id": "Ws2OlT3r1dmP",
        "outputId": "14181829-a407-4417-d16a-4f88dd7346ba"
      },
      "execution_count": null,
      "outputs": [
        {
          "output_type": "stream",
          "name": "stdout",
          "text": [
            "Fail to reject the null hypothesis of equality of regression coefficients in the two periods.\n",
            "Chow Statistic: 0.4394335337010852, P_value: 0.6472626860090814\n"
          ]
        },
        {
          "output_type": "execute_result",
          "data": {
            "text/plain": [
              "(0.4394335337010852, 0.6472626860090814)"
            ]
          },
          "metadata": {},
          "execution_count": 43
        }
      ]
    },
    {
      "cell_type": "code",
      "source": [
        "exec_chow_test(df_area_plantada['Ano'], df_area_plantada['Produtividade'], 23, 24, 0.05)"
      ],
      "metadata": {
        "colab": {
          "base_uri": "https://localhost:8080/"
        },
        "id": "Y1fo0XTX1fRv",
        "outputId": "044ef029-401e-4b39-9c59-7baa4fe15ac0"
      },
      "execution_count": null,
      "outputs": [
        {
          "output_type": "stream",
          "name": "stdout",
          "text": [
            "Fail to reject the null hypothesis of equality of regression coefficients in the two periods.\n",
            "Chow Statistic: 0.11121911716857558, P_value: 0.8949992146943193\n"
          ]
        },
        {
          "output_type": "execute_result",
          "data": {
            "text/plain": [
              "(0.11121911716857558, 0.8949992146943193)"
            ]
          },
          "metadata": {},
          "execution_count": 45
        }
      ]
    },
    {
      "cell_type": "code",
      "source": [
        "exec_chow_test(df_area_plantada['Ano'], df_area_plantada['Produtividade'], 24, 25, 0.05)"
      ],
      "metadata": {
        "colab": {
          "base_uri": "https://localhost:8080/"
        },
        "id": "Am5fj7ut1hkP",
        "outputId": "0db2815f-ee9f-491b-829d-1daf06e427bf"
      },
      "execution_count": null,
      "outputs": [
        {
          "output_type": "stream",
          "name": "stdout",
          "text": [
            "Fail to reject the null hypothesis of equality of regression coefficients in the two periods.\n",
            "Chow Statistic: -1.161369671690469, P_value: 1.0\n"
          ]
        },
        {
          "output_type": "execute_result",
          "data": {
            "text/plain": [
              "(-1.161369671690469, 1.0)"
            ]
          },
          "metadata": {},
          "execution_count": 47
        }
      ]
    },
    {
      "cell_type": "code",
      "source": [
        "exec_chow_test(df_area_plantada['Ano'], df_area_plantada['Produtividade'], 25, 26, 0.05)"
      ],
      "metadata": {
        "colab": {
          "base_uri": "https://localhost:8080/"
        },
        "id": "1WIsPlxI1juF",
        "outputId": "d8296709-760e-48e2-a586-61fe133bca14"
      },
      "execution_count": null,
      "outputs": [
        {
          "output_type": "stream",
          "name": "stdout",
          "text": [
            "Fail to reject the null hypothesis of equality of regression coefficients in the two periods.\n",
            "Chow Statistic: 0.05385990028614589, P_value: 0.9476286714806128\n"
          ]
        },
        {
          "output_type": "execute_result",
          "data": {
            "text/plain": [
              "(0.05385990028614589, 0.9476286714806128)"
            ]
          },
          "metadata": {},
          "execution_count": 48
        }
      ]
    },
    {
      "cell_type": "code",
      "source": [
        "exec_chow_test(df_area_plantada['Ano'], df_area_plantada['Produtividade'], 26, 27, 0.05)"
      ],
      "metadata": {
        "colab": {
          "base_uri": "https://localhost:8080/"
        },
        "id": "sr7M3rZc1l5C",
        "outputId": "1ee6de03-a778-4382-94ca-e7d43494325b"
      },
      "execution_count": null,
      "outputs": [
        {
          "output_type": "stream",
          "name": "stdout",
          "text": [
            "Fail to reject the null hypothesis of equality of regression coefficients in the two periods.\n",
            "Chow Statistic: -0.3831342324548623, P_value: 1.0\n"
          ]
        },
        {
          "output_type": "execute_result",
          "data": {
            "text/plain": [
              "(-0.3831342324548623, 1.0)"
            ]
          },
          "metadata": {},
          "execution_count": 49
        }
      ]
    },
    {
      "cell_type": "code",
      "source": [
        "exec_chow_test(df_area_plantada['Ano'], df_area_plantada['Produtividade'], 29, 30, 0.05)"
      ],
      "metadata": {
        "colab": {
          "base_uri": "https://localhost:8080/"
        },
        "id": "HiH4xxTa1nsO",
        "outputId": "c56fa400-5323-4ccd-870f-a6162293ddd5"
      },
      "execution_count": null,
      "outputs": [
        {
          "output_type": "stream",
          "name": "stdout",
          "text": [
            "Fail to reject the null hypothesis of equality of regression coefficients in the two periods.\n",
            "Chow Statistic: -0.4357135301816901, P_value: 1.0\n"
          ]
        },
        {
          "output_type": "execute_result",
          "data": {
            "text/plain": [
              "(-0.4357135301816901, 1.0)"
            ]
          },
          "metadata": {},
          "execution_count": 50
        }
      ]
    },
    {
      "cell_type": "code",
      "source": [
        "exec_chow_test(df_area_plantada['Ano'], df_area_plantada['Produtividade'], 31, 32, 0.05)"
      ],
      "metadata": {
        "colab": {
          "base_uri": "https://localhost:8080/"
        },
        "id": "0buGzsHR1qQ5",
        "outputId": "56fea2f4-6499-4469-8c22-136f1e2e6a45"
      },
      "execution_count": null,
      "outputs": [
        {
          "output_type": "stream",
          "name": "stdout",
          "text": [
            "Fail to reject the null hypothesis of equality of regression coefficients in the two periods.\n",
            "Chow Statistic: -0.06610784118852671, P_value: 1.0\n"
          ]
        },
        {
          "output_type": "execute_result",
          "data": {
            "text/plain": [
              "(-0.06610784118852671, 1.0)"
            ]
          },
          "metadata": {},
          "execution_count": 51
        }
      ]
    },
    {
      "cell_type": "code",
      "source": [
        "exec_chow_test(df_area_plantada['Ano'], df_area_plantada['Produtividade'], 32, 33, 0.05)"
      ],
      "metadata": {
        "colab": {
          "base_uri": "https://localhost:8080/"
        },
        "id": "4rNABoaw1sP4",
        "outputId": "ff413e0c-33f2-4768-d795-c0c4c19ca69b"
      },
      "execution_count": null,
      "outputs": [
        {
          "output_type": "stream",
          "name": "stdout",
          "text": [
            "Fail to reject the null hypothesis of equality of regression coefficients in the two periods.\n",
            "Chow Statistic: -0.163303577887203, P_value: 1.0\n"
          ]
        },
        {
          "output_type": "execute_result",
          "data": {
            "text/plain": [
              "(-0.163303577887203, 1.0)"
            ]
          },
          "metadata": {},
          "execution_count": 52
        }
      ]
    },
    {
      "cell_type": "code",
      "source": [
        "exec_chow_test(df_area_plantada['Ano'], df_area_plantada['Produtividade'], 33, 34, 0.05)"
      ],
      "metadata": {
        "colab": {
          "base_uri": "https://localhost:8080/"
        },
        "id": "WxuqRGWr1uJt",
        "outputId": "8da24638-52cd-45b7-824b-8476a3b89b46"
      },
      "execution_count": null,
      "outputs": [
        {
          "output_type": "stream",
          "name": "stdout",
          "text": [
            "Fail to reject the null hypothesis of equality of regression coefficients in the two periods.\n",
            "Chow Statistic: -0.10044576199734366, P_value: 1.0\n"
          ]
        },
        {
          "output_type": "execute_result",
          "data": {
            "text/plain": [
              "(-0.10044576199734366, 1.0)"
            ]
          },
          "metadata": {},
          "execution_count": 53
        }
      ]
    },
    {
      "cell_type": "code",
      "source": [
        "exec_chow_test(df_area_plantada['Ano'], df_area_plantada['Produtividade'], 34, 35, 0.05)"
      ],
      "metadata": {
        "colab": {
          "base_uri": "https://localhost:8080/"
        },
        "id": "oXjhadVT1wKb",
        "outputId": "4c7583df-2743-4ba3-a7d9-fdd767b89b67"
      },
      "execution_count": null,
      "outputs": [
        {
          "output_type": "stream",
          "name": "stdout",
          "text": [
            "Fail to reject the null hypothesis of equality of regression coefficients in the two periods.\n",
            "Chow Statistic: -0.7078388920547584, P_value: 1.0\n"
          ]
        },
        {
          "output_type": "execute_result",
          "data": {
            "text/plain": [
              "(-0.7078388920547584, 1.0)"
            ]
          },
          "metadata": {},
          "execution_count": 55
        }
      ]
    },
    {
      "cell_type": "code",
      "source": [
        "exec_chow_test(df_area_plantada['Ano'], df_area_plantada['Produtividade'], 35, 36, 0.05)"
      ],
      "metadata": {
        "colab": {
          "base_uri": "https://localhost:8080/"
        },
        "id": "bsRCkiEu1yFP",
        "outputId": "bf4db962-546a-4b15-e221-31f677d8a8ff"
      },
      "execution_count": null,
      "outputs": [
        {
          "output_type": "stream",
          "name": "stdout",
          "text": [
            "Fail to reject the null hypothesis of equality of regression coefficients in the two periods.\n",
            "Chow Statistic: -0.3489993334306835, P_value: 1.0\n"
          ]
        },
        {
          "output_type": "execute_result",
          "data": {
            "text/plain": [
              "(-0.3489993334306835, 1.0)"
            ]
          },
          "metadata": {},
          "execution_count": 58
        }
      ]
    },
    {
      "cell_type": "code",
      "source": [
        "exec_chow_test(df_area_plantada['Ano'], df_area_plantada['Produtividade'], 39, 40, 0.05)"
      ],
      "metadata": {
        "colab": {
          "base_uri": "https://localhost:8080/"
        },
        "id": "s5y8C4Wr10gt",
        "outputId": "0b0ef595-7120-4381-e3ed-3729d9882a96"
      },
      "execution_count": null,
      "outputs": [
        {
          "output_type": "stream",
          "name": "stdout",
          "text": [
            "Fail to reject the null hypothesis of equality of regression coefficients in the two periods.\n",
            "Chow Statistic: -0.03958780457205304, P_value: 1.0\n"
          ]
        },
        {
          "output_type": "execute_result",
          "data": {
            "text/plain": [
              "(-0.03958780457205304, 1.0)"
            ]
          },
          "metadata": {},
          "execution_count": 56
        }
      ]
    },
    {
      "cell_type": "code",
      "source": [
        "exec_chow_test(df_area_plantada['Ano'], df_area_plantada['Produtividade'], 41, 42, 0.05)"
      ],
      "metadata": {
        "colab": {
          "base_uri": "https://localhost:8080/"
        },
        "id": "5MJOSQ3J12qh",
        "outputId": "b04b6bde-dd0b-48b9-ecc3-427acd306e62"
      },
      "execution_count": null,
      "outputs": [
        {
          "output_type": "stream",
          "name": "stdout",
          "text": [
            "Fail to reject the null hypothesis of equality of regression coefficients in the two periods.\n",
            "Chow Statistic: 0.43509307488947796, P_value: 0.6500219692509086\n"
          ]
        },
        {
          "output_type": "execute_result",
          "data": {
            "text/plain": [
              "(0.43509307488947796, 0.6500219692509086)"
            ]
          },
          "metadata": {},
          "execution_count": 60
        }
      ]
    },
    {
      "cell_type": "code",
      "source": [
        "exec_chow_test(df_area_plantada['Ano'], df_area_plantada['Produtividade'], 44, 45, 0.05)"
      ],
      "metadata": {
        "colab": {
          "base_uri": "https://localhost:8080/"
        },
        "id": "yH_wqRO014eI",
        "outputId": "5edafb11-e7b7-4e54-fef5-72bf3792573e"
      },
      "execution_count": null,
      "outputs": [
        {
          "output_type": "stream",
          "name": "stdout",
          "text": [
            "Fail to reject the null hypothesis of equality of regression coefficients in the two periods.\n",
            "Chow Statistic: 1.4947573183154, P_value: 0.23572575357162084\n"
          ]
        },
        {
          "output_type": "execute_result",
          "data": {
            "text/plain": [
              "(1.4947573183154, 0.23572575357162084)"
            ]
          },
          "metadata": {},
          "execution_count": 61
        }
      ]
    },
    {
      "cell_type": "code",
      "source": [
        "df_maq_use = pd.read_excel('dados_maq.xlsx')\n",
        "df_maq_use.head()"
      ],
      "metadata": {
        "colab": {
          "base_uri": "https://localhost:8080/",
          "height": 206
        },
        "id": "JHncnt5B-26y",
        "outputId": "c6aa6769-6842-4978-ee54-b536b4a8c821"
      },
      "execution_count": null,
      "outputs": [
        {
          "output_type": "execute_result",
          "data": {
            "text/plain": [
              "    Ano  Unnamed: 1  tratores    arados  máquinas para plantio  \\\n",
              "0  1970           0    165731       NaN                    NaN   \n",
              "1  1975           1    323109       NaN                    NaN   \n",
              "2  1980           2    545204       NaN                    NaN   \n",
              "3  1985           3    665280       NaN                    NaN   \n",
              "4  1995           4    803727  227943.0                    NaN   \n",
              "\n",
              "   máquinas para colheita  maquinario  \n",
              "0                     NaN      165731  \n",
              "1                     NaN      323109  \n",
              "2                     NaN      545204  \n",
              "3                     NaN      665280  \n",
              "4                     NaN     1031670  "
            ],
            "text/html": [
              "\n",
              "  <div id=\"df-0bd721c5-3cd9-4154-9108-683795fd1ef9\">\n",
              "    <div class=\"colab-df-container\">\n",
              "      <div>\n",
              "<style scoped>\n",
              "    .dataframe tbody tr th:only-of-type {\n",
              "        vertical-align: middle;\n",
              "    }\n",
              "\n",
              "    .dataframe tbody tr th {\n",
              "        vertical-align: top;\n",
              "    }\n",
              "\n",
              "    .dataframe thead th {\n",
              "        text-align: right;\n",
              "    }\n",
              "</style>\n",
              "<table border=\"1\" class=\"dataframe\">\n",
              "  <thead>\n",
              "    <tr style=\"text-align: right;\">\n",
              "      <th></th>\n",
              "      <th>Ano</th>\n",
              "      <th>Unnamed: 1</th>\n",
              "      <th>tratores</th>\n",
              "      <th>arados</th>\n",
              "      <th>máquinas para plantio</th>\n",
              "      <th>máquinas para colheita</th>\n",
              "      <th>maquinario</th>\n",
              "    </tr>\n",
              "  </thead>\n",
              "  <tbody>\n",
              "    <tr>\n",
              "      <th>0</th>\n",
              "      <td>1970</td>\n",
              "      <td>0</td>\n",
              "      <td>165731</td>\n",
              "      <td>NaN</td>\n",
              "      <td>NaN</td>\n",
              "      <td>NaN</td>\n",
              "      <td>165731</td>\n",
              "    </tr>\n",
              "    <tr>\n",
              "      <th>1</th>\n",
              "      <td>1975</td>\n",
              "      <td>1</td>\n",
              "      <td>323109</td>\n",
              "      <td>NaN</td>\n",
              "      <td>NaN</td>\n",
              "      <td>NaN</td>\n",
              "      <td>323109</td>\n",
              "    </tr>\n",
              "    <tr>\n",
              "      <th>2</th>\n",
              "      <td>1980</td>\n",
              "      <td>2</td>\n",
              "      <td>545204</td>\n",
              "      <td>NaN</td>\n",
              "      <td>NaN</td>\n",
              "      <td>NaN</td>\n",
              "      <td>545204</td>\n",
              "    </tr>\n",
              "    <tr>\n",
              "      <th>3</th>\n",
              "      <td>1985</td>\n",
              "      <td>3</td>\n",
              "      <td>665280</td>\n",
              "      <td>NaN</td>\n",
              "      <td>NaN</td>\n",
              "      <td>NaN</td>\n",
              "      <td>665280</td>\n",
              "    </tr>\n",
              "    <tr>\n",
              "      <th>4</th>\n",
              "      <td>1995</td>\n",
              "      <td>4</td>\n",
              "      <td>803727</td>\n",
              "      <td>227943.0</td>\n",
              "      <td>NaN</td>\n",
              "      <td>NaN</td>\n",
              "      <td>1031670</td>\n",
              "    </tr>\n",
              "  </tbody>\n",
              "</table>\n",
              "</div>\n",
              "      <button class=\"colab-df-convert\" onclick=\"convertToInteractive('df-0bd721c5-3cd9-4154-9108-683795fd1ef9')\"\n",
              "              title=\"Convert this dataframe to an interactive table.\"\n",
              "              style=\"display:none;\">\n",
              "        \n",
              "  <svg xmlns=\"http://www.w3.org/2000/svg\" height=\"24px\"viewBox=\"0 0 24 24\"\n",
              "       width=\"24px\">\n",
              "    <path d=\"M0 0h24v24H0V0z\" fill=\"none\"/>\n",
              "    <path d=\"M18.56 5.44l.94 2.06.94-2.06 2.06-.94-2.06-.94-.94-2.06-.94 2.06-2.06.94zm-11 1L8.5 8.5l.94-2.06 2.06-.94-2.06-.94L8.5 2.5l-.94 2.06-2.06.94zm10 10l.94 2.06.94-2.06 2.06-.94-2.06-.94-.94-2.06-.94 2.06-2.06.94z\"/><path d=\"M17.41 7.96l-1.37-1.37c-.4-.4-.92-.59-1.43-.59-.52 0-1.04.2-1.43.59L10.3 9.45l-7.72 7.72c-.78.78-.78 2.05 0 2.83L4 21.41c.39.39.9.59 1.41.59.51 0 1.02-.2 1.41-.59l7.78-7.78 2.81-2.81c.8-.78.8-2.07 0-2.86zM5.41 20L4 18.59l7.72-7.72 1.47 1.35L5.41 20z\"/>\n",
              "  </svg>\n",
              "      </button>\n",
              "      \n",
              "  <style>\n",
              "    .colab-df-container {\n",
              "      display:flex;\n",
              "      flex-wrap:wrap;\n",
              "      gap: 12px;\n",
              "    }\n",
              "\n",
              "    .colab-df-convert {\n",
              "      background-color: #E8F0FE;\n",
              "      border: none;\n",
              "      border-radius: 50%;\n",
              "      cursor: pointer;\n",
              "      display: none;\n",
              "      fill: #1967D2;\n",
              "      height: 32px;\n",
              "      padding: 0 0 0 0;\n",
              "      width: 32px;\n",
              "    }\n",
              "\n",
              "    .colab-df-convert:hover {\n",
              "      background-color: #E2EBFA;\n",
              "      box-shadow: 0px 1px 2px rgba(60, 64, 67, 0.3), 0px 1px 3px 1px rgba(60, 64, 67, 0.15);\n",
              "      fill: #174EA6;\n",
              "    }\n",
              "\n",
              "    [theme=dark] .colab-df-convert {\n",
              "      background-color: #3B4455;\n",
              "      fill: #D2E3FC;\n",
              "    }\n",
              "\n",
              "    [theme=dark] .colab-df-convert:hover {\n",
              "      background-color: #434B5C;\n",
              "      box-shadow: 0px 1px 3px 1px rgba(0, 0, 0, 0.15);\n",
              "      filter: drop-shadow(0px 1px 2px rgba(0, 0, 0, 0.3));\n",
              "      fill: #FFFFFF;\n",
              "    }\n",
              "  </style>\n",
              "\n",
              "      <script>\n",
              "        const buttonEl =\n",
              "          document.querySelector('#df-0bd721c5-3cd9-4154-9108-683795fd1ef9 button.colab-df-convert');\n",
              "        buttonEl.style.display =\n",
              "          google.colab.kernel.accessAllowed ? 'block' : 'none';\n",
              "\n",
              "        async function convertToInteractive(key) {\n",
              "          const element = document.querySelector('#df-0bd721c5-3cd9-4154-9108-683795fd1ef9');\n",
              "          const dataTable =\n",
              "            await google.colab.kernel.invokeFunction('convertToInteractive',\n",
              "                                                     [key], {});\n",
              "          if (!dataTable) return;\n",
              "\n",
              "          const docLinkHtml = 'Like what you see? Visit the ' +\n",
              "            '<a target=\"_blank\" href=https://colab.research.google.com/notebooks/data_table.ipynb>data table notebook</a>'\n",
              "            + ' to learn more about interactive tables.';\n",
              "          element.innerHTML = '';\n",
              "          dataTable['output_type'] = 'display_data';\n",
              "          await google.colab.output.renderOutput(dataTable, element);\n",
              "          const docLink = document.createElement('div');\n",
              "          docLink.innerHTML = docLinkHtml;\n",
              "          element.appendChild(docLink);\n",
              "        }\n",
              "      </script>\n",
              "    </div>\n",
              "  </div>\n",
              "  "
            ]
          },
          "metadata": {},
          "execution_count": 16
        }
      ]
    },
    {
      "cell_type": "code",
      "source": [
        "exec_chow_test(df_maq_use['Ano'], df_maq_use['maquinario'], 0, 1, 0.05)"
      ],
      "metadata": {
        "colab": {
          "base_uri": "https://localhost:8080/"
        },
        "id": "Usrz_VJ6Ad-j",
        "outputId": "31143beb-1cbe-4ed1-9418-faa5a8b3be2b"
      },
      "execution_count": null,
      "outputs": [
        {
          "output_type": "stream",
          "name": "stdout",
          "text": [
            "Fail to reject the null hypothesis of equality of regression coefficients in the two periods.\n",
            "Chow Statistic: 0.0, P_value: 1.0\n"
          ]
        },
        {
          "output_type": "execute_result",
          "data": {
            "text/plain": [
              "(0.0, 1.0)"
            ]
          },
          "metadata": {},
          "execution_count": 20
        }
      ]
    },
    {
      "cell_type": "code",
      "source": [
        "exec_chow_test(df_maq_use['Ano'], df_maq_use['maquinario'], 1, 2, 0.05)"
      ],
      "metadata": {
        "colab": {
          "base_uri": "https://localhost:8080/"
        },
        "id": "ezn4lPn9Bf7F",
        "outputId": "64ed97ee-f298-454b-e6fd-a2c9827c43e0"
      },
      "execution_count": null,
      "outputs": [
        {
          "output_type": "stream",
          "name": "stdout",
          "text": [
            "Fail to reject the null hypothesis of equality of regression coefficients in the two periods.\n",
            "Chow Statistic: 0.5322473828932779, P_value: 0.6238033883539801\n"
          ]
        },
        {
          "output_type": "execute_result",
          "data": {
            "text/plain": [
              "(0.5322473828932779, 0.6238033883539801)"
            ]
          },
          "metadata": {},
          "execution_count": 21
        }
      ]
    },
    {
      "cell_type": "code",
      "source": [
        "exec_chow_test(df_maq_use['Ano'], df_maq_use['maquinario'], 2, 3, 0.05)"
      ],
      "metadata": {
        "colab": {
          "base_uri": "https://localhost:8080/"
        },
        "id": "ph6B2BoeBhsZ",
        "outputId": "0f051eba-6fd6-4553-9e8b-4ebcb0356535"
      },
      "execution_count": null,
      "outputs": [
        {
          "output_type": "stream",
          "name": "stdout",
          "text": [
            "Fail to reject the null hypothesis of equality of regression coefficients in the two periods.\n",
            "Chow Statistic: 1.2191673227330198, P_value: 0.38598718858571424\n"
          ]
        },
        {
          "output_type": "execute_result",
          "data": {
            "text/plain": [
              "(1.2191673227330198, 0.38598718858571424)"
            ]
          },
          "metadata": {},
          "execution_count": 22
        }
      ]
    },
    {
      "cell_type": "code",
      "source": [
        "exec_chow_test(df_maq_use['Ano'], df_maq_use['maquinario'], 3, 4, 0.05)"
      ],
      "metadata": {
        "colab": {
          "base_uri": "https://localhost:8080/"
        },
        "id": "MFxG0ETGBjkQ",
        "outputId": "a3d68eb3-5932-48af-8478-ddd56fc293b8"
      },
      "execution_count": null,
      "outputs": [
        {
          "output_type": "stream",
          "name": "stdout",
          "text": [
            "Fail to reject the null hypothesis of equality of regression coefficients in the two periods.\n",
            "Chow Statistic: 2.2611780977896276, P_value: 0.22029296034721746\n"
          ]
        },
        {
          "output_type": "execute_result",
          "data": {
            "text/plain": [
              "(2.2611780977896276, 0.22029296034721746)"
            ]
          },
          "metadata": {},
          "execution_count": 23
        }
      ]
    },
    {
      "cell_type": "code",
      "source": [
        "exec_chow_test(df_maq_use['Ano'], df_maq_use['maquinario'], 4, 5, 0.05)"
      ],
      "metadata": {
        "colab": {
          "base_uri": "https://localhost:8080/"
        },
        "id": "rcPdzoPLBlaq",
        "outputId": "ed2f7cb5-ff87-49d0-9468-f5df23adce80"
      },
      "execution_count": null,
      "outputs": [
        {
          "output_type": "stream",
          "name": "stdout",
          "text": [
            "Fail to reject the null hypothesis of equality of regression coefficients in the two periods.\n",
            "Chow Statistic: 3.511043301010284, P_value: 0.1317019922698368\n"
          ]
        },
        {
          "output_type": "execute_result",
          "data": {
            "text/plain": [
              "(3.511043301010284, 0.1317019922698368)"
            ]
          },
          "metadata": {},
          "execution_count": 26
        }
      ]
    },
    {
      "cell_type": "code",
      "source": [
        "exec_chow_test(df_maq_use['Ano'], df_maq_use['maquinario'], 5, 6, 0.05)"
      ],
      "metadata": {
        "colab": {
          "base_uri": "https://localhost:8080/"
        },
        "id": "widV0SqUBpXE",
        "outputId": "a4dd4218-8d89-4116-c598-e7a1b2d7ad41"
      },
      "execution_count": null,
      "outputs": [
        {
          "output_type": "stream",
          "name": "stdout",
          "text": [
            "Fail to reject the null hypothesis of equality of regression coefficients in the two periods.\n",
            "Chow Statistic: 0.0996263632534943, P_value: 0.9073523260879892\n"
          ]
        },
        {
          "output_type": "execute_result",
          "data": {
            "text/plain": [
              "(0.0996263632534943, 0.9073523260879892)"
            ]
          },
          "metadata": {},
          "execution_count": 25
        }
      ]
    }
  ]
}